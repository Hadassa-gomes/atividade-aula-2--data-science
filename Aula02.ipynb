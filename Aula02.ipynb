{
 "cells": [
  {
   "cell_type": "markdown",
   "metadata": {},
   "source": [
    "# Aula 02\n",
    "\n",
    "**obs:** Veja no slide as instruções para configurar o ambiente para executar este aquivo. "
   ]
  },
  {
   "cell_type": "markdown",
   "metadata": {},
   "source": [
    "Aluno(a): "
   ]
  },
  {
   "cell_type": "markdown",
   "metadata": {},
   "source": [
    "## Carregando o conjunto de dados"
   ]
  },
  {
   "cell_type": "code",
   "execution_count": 7,
   "metadata": {},
   "outputs": [],
   "source": [
    "import pandas as pd\n",
    "import requests\n",
    "from io import StringIO\n",
    "\n",
    "# IDs dos arquivos no Google Drive\n",
    "file_id = '15aOJIGAyLMSY1gecjiCgu2ko_riIcKQy'   # Estudantes\n",
    "file_id2 = '1Jgto7psHaMRTAVzcFt7D6SgJiHMB7uGT'  # Escolas\n",
    "\n",
    "# URLs para download\n",
    "url = f\"https://drive.google.com/uc?id={file_id}\"\n",
    "url2 = f\"https://drive.google.com/uc?id={file_id2}\"\n",
    "\n",
    "# Obtenção dos arquivos\n",
    "try:\n",
    "    # Primeiro arquivo - Estudantes\n",
    "    response = requests.get(url)\n",
    "    response.raise_for_status()\n",
    "    csv_raw = StringIO(response.text)\n",
    "    estudantes = pd.read_csv(csv_raw)\n",
    "    \n",
    "    # Segundo arquivo - Escolas\n",
    "    response2 = requests.get(url2)\n",
    "    response2.raise_for_status()\n",
    "    csv_raw2 = StringIO(response2.text)\n",
    "    escolas = pd.read_csv(csv_raw2)\n",
    "\n",
    "except requests.RequestException as e:\n",
    "    print(f\"Erro ao acessar o arquivo: {e}\")\n",
    "\n"
   ]
  },
  {
   "cell_type": "markdown",
   "metadata": {},
   "source": [
    "**obs.:** todas as vezes que o presente arquivo for aberto é necessário executar a célula acima."
   ]
  },
  {
   "cell_type": "markdown",
   "metadata": {},
   "source": [
    "Analisando os dataframes\n",
    "\n",
    "1 - Escolas"
   ]
  },
  {
   "cell_type": "code",
   "execution_count": 9,
   "metadata": {},
   "outputs": [
    {
     "name": "stdout",
     "output_type": "stream",
     "text": [
      "ID_Estudante       0\n",
      "Nome_Estudante     0\n",
      "Genero             0\n",
      "Serie              0\n",
      "Nome_Escola        0\n",
      "Nota_Redacao       0\n",
      "Nota_Matematica    0\n",
      "dtype: int64\n",
      "ID_Escola          0\n",
      "Nome_Escola        0\n",
      "Tipo_Escola        0\n",
      "Numero_Alunos      0\n",
      "Orcamento_Anual    0\n",
      "dtype: int64\n"
     ]
    }
   ],
   "source": [
    "print(estudantes.isnull().sum())\n",
    "print(escolas.isnull().sum())"
   ]
  },
  {
   "cell_type": "markdown",
   "metadata": {},
   "source": [
    "2 - Estudantes"
   ]
  },
  {
   "cell_type": "code",
   "execution_count": 10,
   "metadata": {},
   "outputs": [
    {
     "name": "stdout",
     "output_type": "stream",
     "text": [
      "{'Nome_Escola'}\n"
     ]
    }
   ],
   "source": [
    "print(set(estudantes.columns).intersection(set(escolas.columns)))"
   ]
  },
  {
   "cell_type": "markdown",
   "metadata": {},
   "source": [
    "Perguntas:\n",
    "\n",
    "Existem dados faltantes nas tabelas? \n",
    "\n",
    "R: .\n",
    "\n",
    "Existe algo em comum nas duas tabelas? \n",
    "\n",
    "R: .\n",
    "\n",
    "### Combinando os datasets"
   ]
  },
  {
   "cell_type": "code",
   "execution_count": 13,
   "metadata": {},
   "outputs": [],
   "source": [
    "df = pd.merge(estudantes, escolas, on=\"Nome_Escola\")"
   ]
  },
  {
   "cell_type": "markdown",
   "metadata": {},
   "source": [
    "As colunas Genero, Serie e Tipo Escola representam dados categóricos. Como podemos verificar a quantidade de valores distintos que existem em cada categoria? "
   ]
  },
  {
   "cell_type": "code",
   "execution_count": 14,
   "metadata": {},
   "outputs": [
    {
     "name": "stdout",
     "output_type": "stream",
     "text": [
      "Genero\n",
      "F    19728\n",
      "M    19432\n",
      "Name: count, dtype: int64\n",
      "Serie\n",
      "6    11406\n",
      "7    10165\n",
      "8     9692\n",
      "9     7897\n",
      "Name: count, dtype: int64\n",
      "Tipo_Escola\n",
      "Publica       26976\n",
      "Particular    12184\n",
      "Name: count, dtype: int64\n"
     ]
    }
   ],
   "source": [
    "print(df['Genero'].value_counts())\n",
    "print(df['Serie'].value_counts())\n",
    "print(df['Tipo_Escola'].value_counts())"
   ]
  },
  {
   "cell_type": "code",
   "execution_count": 16,
   "metadata": {},
   "outputs": [
    {
     "name": "stdout",
     "output_type": "stream",
     "text": [
      "Colunas do DataFrame 'estudantes':\n",
      "['ID_Estudante', 'Nome_Estudante', 'Genero', 'Serie', 'Nome_Escola', 'Nota_Redacao', 'Nota_Matematica']\n",
      "\n",
      "Primeiras linhas de 'estudantes':\n",
      "   ID_Estudante  Nome_Estudante Genero  Serie Nome_Escola  Nota_Redacao  \\\n",
      "0             0   Kevin Bradley      M      6    Escola A            66   \n",
      "1             1      Paul Smith      M      9    Escola A            94   \n",
      "2             2  John Rodriguez      M      9    Escola A            90   \n",
      "3             3    Oliver Scott      M      9    Escola A            67   \n",
      "4             4     William Ray      F      6    Escola A            97   \n",
      "\n",
      "   Nota_Matematica  \n",
      "0               79  \n",
      "1               61  \n",
      "2               60  \n",
      "3               58  \n",
      "4               84  \n",
      "\n",
      "\n",
      "Colunas do DataFrame 'escolas':\n",
      "['ID_Escola', 'Nome_Escola', 'Tipo_Escola', 'Numero_Alunos', 'Orcamento_Anual']\n",
      "\n",
      "Primeiras linhas de 'escolas':\n",
      "   ID_Escola Nome_Escola Tipo_Escola  Numero_Alunos  Orcamento_Anual\n",
      "0          0    Escola A     Publica           2917          1910635\n",
      "1          1    Escola B     Publica           2949          1884411\n",
      "2          2    Escola C  Particular           1761          1056600\n",
      "3          3    Escola D     Publica           4635          3022020\n",
      "4          4    Escola E  Particular           1468           917500\n"
     ]
    }
   ],
   "source": [
    "print(\"Colunas do DataFrame 'estudantes':\")\n",
    "print(estudantes.columns.tolist())\n",
    "\n",
    "print(\"\\nPrimeiras linhas de 'estudantes':\")\n",
    "print(estudantes.head())\n",
    "\n",
    "print(\"\\n\\nColunas do DataFrame 'escolas':\")\n",
    "print(escolas.columns.tolist())\n",
    "\n",
    "print(\"\\nPrimeiras linhas de 'escolas':\")\n",
    "print(escolas.head())"
   ]
  },
  {
   "cell_type": "code",
   "execution_count": null,
   "metadata": {},
   "outputs": [],
   "source": []
  },
  {
   "cell_type": "markdown",
   "metadata": {},
   "source": [
    "### Algumas perguntas:\n",
    "\n",
    "Qual o orçamento total das escolas?"
   ]
  },
  {
   "cell_type": "code",
   "execution_count": 17,
   "metadata": {},
   "outputs": [
    {
     "name": "stdout",
     "output_type": "stream",
     "text": [
      "Orçamento total: 24649428\n"
     ]
    }
   ],
   "source": [
    "orcamento_total = escolas['Orcamento_Anual'].sum()\n",
    "print(f\"Orçamento total: {orcamento_total}\")"
   ]
  },
  {
   "cell_type": "markdown",
   "metadata": {},
   "source": [
    "Qual a nota média dos alunos nas disciplinas analisadas?"
   ]
  },
  {
   "cell_type": "code",
   "execution_count": 18,
   "metadata": {},
   "outputs": [
    {
     "name": "stdout",
     "output_type": "stream",
     "text": [
      "78.98493360572012 81.87574055158325\n"
     ]
    }
   ],
   "source": [
    "media_matematica = estudantes['Nota_Matematica'].mean()\n",
    "media_redacao = estudantes['Nota_Redacao'].mean()\n",
    "print(media_matematica, media_redacao)"
   ]
  },
  {
   "cell_type": "markdown",
   "metadata": {},
   "source": [
    "Organizando os resultados"
   ]
  },
  {
   "cell_type": "code",
   "execution_count": null,
   "metadata": {},
   "outputs": [],
   "source": []
  },
  {
   "cell_type": "markdown",
   "metadata": {},
   "source": [
    "Quantos alunos ficaram com nota superior a 90 em redação?"
   ]
  },
  {
   "cell_type": "code",
   "execution_count": 19,
   "metadata": {},
   "outputs": [
    {
     "name": "stdout",
     "output_type": "stream",
     "text": [
      "9973\n"
     ]
    }
   ],
   "source": [
    "alto_redacao = df[df['Nota_Redacao'] > 90]\n",
    "print(len(alto_redacao))"
   ]
  },
  {
   "cell_type": "markdown",
   "metadata": {},
   "source": [
    "E qual o percentual?"
   ]
  },
  {
   "cell_type": "code",
   "execution_count": 20,
   "metadata": {},
   "outputs": [
    {
     "name": "stdout",
     "output_type": "stream",
     "text": [
      "25.467313585291112\n"
     ]
    }
   ],
   "source": [
    "percentual_redacao = (len(alto_redacao) / len(df)) * 100\n",
    "print(percentual_redacao)"
   ]
  },
  {
   "cell_type": "markdown",
   "metadata": {},
   "source": [
    "Quantos alunos ficaram com nota superior a 90 em matemática? "
   ]
  },
  {
   "cell_type": "code",
   "execution_count": 21,
   "metadata": {},
   "outputs": [
    {
     "name": "stdout",
     "output_type": "stream",
     "text": [
      "8834\n"
     ]
    }
   ],
   "source": [
    "alto_matematica = df[df['Nota_Matematica'] > 90]\n",
    "print(len(alto_matematica))"
   ]
  },
  {
   "cell_type": "markdown",
   "metadata": {},
   "source": [
    "Qual o percentual?"
   ]
  },
  {
   "cell_type": "code",
   "execution_count": 22,
   "metadata": {},
   "outputs": [
    {
     "name": "stdout",
     "output_type": "stream",
     "text": [
      "22.558733401430032\n"
     ]
    }
   ],
   "source": [
    "percentual_matematica = (len(alto_matematica) / len(df)) * 100\n",
    "print(percentual_matematica)"
   ]
  },
  {
   "cell_type": "markdown",
   "metadata": {},
   "source": [
    "Quantos Alunos tiraram nota maior do que 90 nas duas disciplinas? "
   ]
  },
  {
   "cell_type": "code",
   "execution_count": 23,
   "metadata": {},
   "outputs": [
    {
     "name": "stdout",
     "output_type": "stream",
     "text": [
      "2323\n"
     ]
    }
   ],
   "source": [
    "alto_ambas = df[(df['Nota_Redacao'] > 90) & (df['Nota_Matematica'] > 90)]\n",
    "print(len(alto_ambas))"
   ]
  },
  {
   "cell_type": "markdown",
   "metadata": {},
   "source": [
    "Qual o percentual? "
   ]
  },
  {
   "cell_type": "code",
   "execution_count": 24,
   "metadata": {},
   "outputs": [
    {
     "name": "stdout",
     "output_type": "stream",
     "text": [
      "5.932073544433095\n"
     ]
    }
   ],
   "source": [
    "percentual_ambas = (len(alto_ambas) / len(df)) * 100\n",
    "print(percentual_ambas)"
   ]
  },
  {
   "cell_type": "markdown",
   "metadata": {},
   "source": [
    "Quantos alunos que obtiveram alto desempenho em ambas as disciplinas são de escolas públicas?"
   ]
  },
  {
   "cell_type": "code",
   "execution_count": 25,
   "metadata": {},
   "outputs": [
    {
     "name": "stdout",
     "output_type": "stream",
     "text": [
      "0\n"
     ]
    }
   ],
   "source": [
    "publicos_alto = alto_ambas[alto_ambas['Tipo_Escola'] == 'Pública']\n",
    "print(len(publicos_alto))"
   ]
  },
  {
   "cell_type": "markdown",
   "metadata": {},
   "source": [
    "Quantas alunas obtiveram alto desempenho em ambas as disciplinas?"
   ]
  },
  {
   "cell_type": "code",
   "execution_count": 26,
   "metadata": {},
   "outputs": [
    {
     "name": "stdout",
     "output_type": "stream",
     "text": [
      "0\n"
     ]
    }
   ],
   "source": [
    "alunas_alto = alto_ambas[alto_ambas['Genero'] == 'Feminino']\n",
    "print(len(alunas_alto))"
   ]
  },
  {
   "cell_type": "markdown",
   "metadata": {},
   "source": [
    "Como ficou a distribuição dos alunos de alto desempenho pelas série?"
   ]
  },
  {
   "cell_type": "code",
   "execution_count": 27,
   "metadata": {},
   "outputs": [
    {
     "name": "stdout",
     "output_type": "stream",
     "text": [
      "Serie\n",
      "6    663\n",
      "8    604\n",
      "7    599\n",
      "9    457\n",
      "Name: count, dtype: int64\n"
     ]
    }
   ],
   "source": [
    "print(alto_ambas['Serie'].value_counts())"
   ]
  },
  {
   "cell_type": "markdown",
   "metadata": {},
   "source": [
    "Qual o total por escolas? "
   ]
  },
  {
   "cell_type": "code",
   "execution_count": 28,
   "metadata": {},
   "outputs": [
    {
     "name": "stdout",
     "output_type": "stream",
     "text": [
      "Nome_Escola\n",
      "Escola D    252\n",
      "Escola H    252\n",
      "Escola M    239\n",
      "Escola L    183\n",
      "Escola F    172\n",
      "Escola G    155\n",
      "Escola K    153\n",
      "Escola A    143\n",
      "Escola B    142\n",
      "Escola O    129\n",
      "Escola C    129\n",
      "Escola E    126\n",
      "Escola N    110\n",
      "Escola J     96\n",
      "Escola I     42\n",
      "Name: count, dtype: int64\n"
     ]
    }
   ],
   "source": [
    "print(alto_ambas['Nome_Escola'].value_counts())"
   ]
  },
  {
   "cell_type": "code",
   "execution_count": null,
   "metadata": {},
   "outputs": [],
   "source": []
  },
  {
   "cell_type": "markdown",
   "metadata": {},
   "source": [
    "Qual o orçamento per capita de cada escola?"
   ]
  },
  {
   "cell_type": "code",
   "execution_count": 31,
   "metadata": {},
   "outputs": [
    {
     "name": "stdout",
     "output_type": "stream",
     "text": [
      "   Nome_Escola  Alunos_Estudantes  Orcamento_per_capita_estudantes\n",
      "0     Escola A               2917                       655.000000\n",
      "1     Escola B               2949                       639.000000\n",
      "2     Escola C               1761                       600.000000\n",
      "3     Escola D               4635                       652.000000\n",
      "4     Escola E               1468                       625.000000\n",
      "5     Escola F               2283                       578.000000\n",
      "6     Escola G               1858                       582.000000\n",
      "7     Escola H               4976                       628.000000\n",
      "8     Escola I                427                       581.000000\n",
      "9     Escola J                962                       609.000000\n",
      "10    Escola K               1800                       583.000000\n",
      "11    Escola L               3999                       637.000000\n",
      "12    Escola M               4761                       650.000000\n",
      "13    Escola N               2739                       644.000000\n",
      "14    Escola O               1625                       641.926154\n"
     ]
    }
   ],
   "source": [
    "alunos_por_escola = estudantes.groupby('Nome_Escola').size()\n",
    "\n",
    "# Depois mapeia no DataFrame escolas para calcular o orçamento per capita\n",
    "escolas['Alunos_Estudantes'] = escolas['Nome_Escola'].map(alunos_por_escola)\n",
    "\n",
    "escolas['Orcamento_per_capita_estudantes'] = escolas['Orcamento_Anual'] / escolas['Alunos_Estudantes']\n",
    "\n",
    "print(escolas[['Nome_Escola', 'Alunos_Estudantes', 'Orcamento_per_capita_estudantes']])\n",
    "\n"
   ]
  },
  {
   "cell_type": "code",
   "execution_count": null,
   "metadata": {},
   "outputs": [],
   "source": []
  },
  {
   "cell_type": "markdown",
   "metadata": {},
   "source": [
    "Quais foram as escolas mais eficientes? \n",
    "\n",
    "Para tentar responder essa pergunta vamos adicionar o percentual de alunos de alto desempenho ao nosso dataset."
   ]
  },
  {
   "cell_type": "code",
   "execution_count": 33,
   "metadata": {},
   "outputs": [
    {
     "name": "stdout",
     "output_type": "stream",
     "text": [
      "   Nome_Escola  Percentual_Alto_Desempenho  Orcamento_per_capita\n",
      "9     Escola J                   37.422037                 609.0\n",
      "10    Escola K                   37.277778                 583.0\n",
      "14    Escola O                   37.046154                 638.0\n",
      "5     Escola F                   36.574682                 578.0\n",
      "8     Escola I                   36.533958                 581.0\n",
      "4     Escola E                   36.035422                 625.0\n",
      "2     Escola C                   35.831914                 600.0\n",
      "6     Escola G                   35.252960                 582.0\n",
      "3     Escola D                   22.481122                 652.0\n",
      "7     Escola H                   21.744373                 628.0\n",
      "1     Escola B                   21.736182                 639.0\n",
      "13    Escola N                   21.467689                 644.0\n",
      "12    Escola M                   21.403067                 650.0\n",
      "0     Escola A                   21.288996                 655.0\n",
      "11    Escola L                   21.105276                 637.0\n"
     ]
    }
   ],
   "source": [
    "\n",
    "alto_desempenho = estudantes[\n",
    "    (estudantes['Nota_Redacao'] > 80) & (estudantes['Nota_Matematica'] > 80)\n",
    "]\n",
    "\n",
    "\n",
    "total_alunos = estudantes.groupby('Nome_Escola').size()\n",
    "alunos_alto_desempenho = alto_desempenho.groupby('Nome_Escola').size()\n",
    "\n",
    "\n",
    "percentual_alto_desempenho = (alunos_alto_desempenho / total_alunos) * 100\n",
    "\n",
    "escolas['Percentual_Alto_Desempenho'] = escolas['Nome_Escola'].map(percentual_alto_desempenho)\n",
    "\n",
    "\n",
    "escolas['Orcamento_per_capita'] = escolas['Orcamento_Anual'] / escolas['Numero_Alunos']\n",
    "\n",
    "\n",
    "escolas_eficiencia = escolas.sort_values(\n",
    "    by=['Percentual_Alto_Desempenho', 'Orcamento_per_capita'],\n",
    "    ascending=[False, True]\n",
    ")\n",
    "\n",
    "print(escolas_eficiencia[['Nome_Escola', 'Percentual_Alto_Desempenho', 'Orcamento_per_capita']])\n"
   ]
  },
  {
   "cell_type": "code",
   "execution_count": null,
   "metadata": {},
   "outputs": [],
   "source": []
  },
  {
   "cell_type": "code",
   "execution_count": null,
   "metadata": {},
   "outputs": [],
   "source": []
  }
 ],
 "metadata": {
  "kernelspec": {
   "display_name": "Python 3",
   "language": "python",
   "name": "python3"
  },
  "language_info": {
   "codemirror_mode": {
    "name": "ipython",
    "version": 3
   },
   "file_extension": ".py",
   "mimetype": "text/x-python",
   "name": "python",
   "nbconvert_exporter": "python",
   "pygments_lexer": "ipython3",
   "version": "3.12.1"
  }
 },
 "nbformat": 4,
 "nbformat_minor": 2
}
